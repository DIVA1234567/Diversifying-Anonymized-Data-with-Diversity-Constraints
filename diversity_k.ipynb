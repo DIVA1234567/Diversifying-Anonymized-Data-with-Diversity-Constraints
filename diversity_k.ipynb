{
 "cells": [
  {
   "cell_type": "markdown",
   "metadata": {},
   "source": [
    "# prepare diversity constraint, QI etc"
   ]
  },
  {
   "cell_type": "code",
   "execution_count": 39,
   "metadata": {},
   "outputs": [
    {
     "data": {
      "text/plain": [
       "1911"
      ]
     },
     "execution_count": 39,
     "metadata": {},
     "output_type": "execute_result"
    }
   ],
   "source": [
    "5636-939*3-419-366-123"
   ]
  },
  {
   "cell_type": "code",
   "execution_count": 40,
   "metadata": {},
   "outputs": [
    {
     "data": {
      "text/plain": [
       "286882"
      ]
     },
     "execution_count": 40,
     "metadata": {},
     "output_type": "execute_result"
    }
   ],
   "source": [
    "299287-12405"
   ]
  },
  {
   "cell_type": "code",
   "execution_count": 56,
   "metadata": {},
   "outputs": [
    {
     "data": {
      "text/plain": [
       "[[], [1], [], [], []]"
      ]
     },
     "execution_count": 56,
     "metadata": {},
     "output_type": "execute_result"
    }
   ],
   "source": [
    "l = [[] for _ in range(5)]\n",
    "l[1].append(1)\n",
    "l"
   ]
  },
  {
   "cell_type": "code",
   "execution_count": 183,
   "metadata": {},
   "outputs": [],
   "source": [
    "def parse_single_constraint(s):\n",
    "    '''\n",
    "    Args: String constraint\n",
    "    format as: s = \"gen(male) [100, 1000]\"\n",
    "    Return:\n",
    "        dict, with attr, val, lower_bound, up_bound as key\n",
    "    '''\n",
    "    import re\n",
    "    m = re.match(r'(.*)\\((.*)\\)\\s* \\[(\\d+),\\s* (\\d+)\\]', s)\n",
    "    if m:\n",
    "        d = dict()\n",
    "        d['attr'], d['val'], d['lower_bound'], d['up_bound'] = m.group(1), m.group(2),int(m.group(3)),int(m.group(4))\n",
    "        return d\n",
    "    else:\n",
    "        return None"
   ]
  },
  {
   "cell_type": "code",
   "execution_count": 1,
   "metadata": {},
   "outputs": [
    {
     "name": "stdout",
     "output_type": "stream",
     "text": [
      "matchObj.group() :  Cats are smarter than dogs\n",
      "matchObj.group(1) :  Cats\n",
      "matchObj.group(2) :  smarter\n"
     ]
    }
   ],
   "source": [
    "import re\n",
    "\n",
    "line = \"Cats are smarter than dogs\"\n",
    "\n",
    "matchObj = re.match( r'(.*) are (.*?) .*', line, re.M|re.I)\n",
    "\n",
    "if matchObj:\n",
    "   print(\"matchObj.group() : \", matchObj.group())\n",
    "   print (\"matchObj.group(1) : \", matchObj.group(1))\n",
    "   print (\"matchObj.group(2) : \", matchObj.group(2))"
   ]
  },
  {
   "cell_type": "code",
   "execution_count": 18,
   "metadata": {},
   "outputs": [
    {
     "data": {
      "text/plain": [
       "{'attr': 'gen', 'lower_bound': '100', 'up_bound': '1000', 'val': 'male'}"
      ]
     },
     "execution_count": 18,
     "metadata": {},
     "output_type": "execute_result"
    }
   ],
   "source": [
    "s = \"gen(male) [100, 1000]\"\n",
    "d = parse_single_constraint(s)\n",
    "d"
   ]
  },
  {
   "cell_type": "code",
   "execution_count": 22,
   "metadata": {},
   "outputs": [
    {
     "data": {
      "text/plain": [
       "[{'attr': 'city', 'lower_bound': '100', 'up_bound': '150', 'val': 'Rome'},\n",
       " {'attr': 'city', 'lower_bound': '100', 'up_bound': '150', 'val': 'Moscow'},\n",
       " {'attr': 'domain ',\n",
       "  'lower_bound': '1000',\n",
       "  'up_bound': '2500',\n",
       "  'val': 'Institutions'},\n",
       " {'attr': 'domain ', 'lower_bound': '600', 'up_bound': '1500', 'val': 'Arts'},\n",
       " {'attr': 'country',\n",
       "  'lower_bound': '100',\n",
       "  'up_bound': '150',\n",
       "  'val': 'United States'},\n",
       " {'attr': 'country',\n",
       "  'lower_bound': '100',\n",
       "  'up_bound': '150',\n",
       "  'val': 'United Kingdom'},\n",
       " {'attr': 'gender', 'lower_bound': '100', 'up_bound': '200', 'val': 'male'}]"
      ]
     },
     "execution_count": 22,
     "metadata": {},
     "output_type": "execute_result"
    }
   ],
   "source": [
    "def parse_constraint_file(path):\n",
    "    constraints = []\n",
    "    with open(path) as f:\n",
    "        lines = f.readlines()\n",
    "        for l in lines:\n",
    "            constraints.append(parse_single_constraint(l))\n",
    "    return constraints\n",
    "path = 'C:/Users/datasci/YuHuang/YuMcMasterDropbox/Dropbox/Huang_PaperReview/Huang_3rd_research/Huang_Data_Fairness/Huang_Data_Fairness_Experiment/Huang_code/constraint.txt'\n",
    "l = parse_constraint_file(path)\n",
    "l"
   ]
  },
  {
   "cell_type": "markdown",
   "metadata": {},
   "source": [
    "buildGraph 的作用是 find min Cover to satisfy the diversity constraint\n",
    "也是和我slide中的思想一样, 给定一个node 代表 constraint, 只会影响它的 neighbor\n",
    "lower_bound >= k for k-anonymity. \n",
    "先生成所有的可能的 X-group, 然后从中找一个可能的X-group 来满足 diversity constraint.\n",
    "\n",
    "满足constraint的条件下, 每个group中的records个数应该越大越好\n",
    "\n",
    "1. 根据constraint, 生成所有可能满足要求的clustering\n",
    "2. 关键在于第二步, 如何得到 optimal clustering\n",
    "3. 把得到的clustering 和 optimal clustering merge, 之后 apply k-anonymity\n",
    "\n",
    "\n",
    "visit each node to satisfy lower bound first.\n",
    "如果两个node 相连, 说明肯定有overlap在cluster上."
   ]
  },
  {
   "cell_type": "code",
   "execution_count": 149,
   "metadata": {},
   "outputs": [],
   "source": [
    "def check_valid_choice(node, visited, selected_choices, n):\n",
    "    if node in visited:\n",
    "        return\n",
    "    if len(visited) == n: # find a solution\n",
    "        return selected_choices\n",
    "    visited.add(node)\n",
    "    for c in node.possible_clusters:\n",
    "        if compatible(c, selected_choices):\n",
    "            selected_choices.add(c)\n",
    "            for neighbor in node.neighbors:\n",
    "                if neighbor not in visited:\n",
    "                    check_valid_choice(neighbor, visited, selected_choices, n)\n",
    "                    selected_choices.remove(c)"
   ]
  },
  {
   "cell_type": "markdown",
   "metadata": {},
   "source": [
    "Here is the basic workflow of Mondrian:\n",
    "\n",
    "1. Partition the raw dataset into k-groups using kd-tree. k-groups means that each group contains at least k records.\n",
    "2. Generalization each k-group (Fig. 1(b)), such that each group has the same QID*."
   ]
  },
  {
   "cell_type": "code",
   "execution_count": 174,
   "metadata": {},
   "outputs": [],
   "source": [
    "class Node:\n",
    "    '''\n",
    "    One Node reprensent a constraint and the tuples\n",
    "    that satify this constraints\n",
    "    self.records is a list of tuples satisfy this constraint\n",
    "    '''\n",
    "    def __init__(self, id, constraint):\n",
    "        self.id = id\n",
    "        self.constraint = constraint\n",
    "        # records satisfy the constraint\n",
    "        # store records ids\n",
    "        self.records = []\n",
    "        self.neighbors = []\n",
    "        \n",
    "    def __str__(self):\n",
    "        return 'Node id:{} , constraint:{}'.format(self.id, str(self.constraint))\n",
    "        \n",
    "    def __repr__(self):\n",
    "        return 'Node id:{} , constraint:{}'.format(self.id, str(self.constraint))\n",
    "    \n",
    "    def __hash__(self):\n",
    "        return hash(self.id)\n",
    "    \n",
    "    def __eq__(self, other):\n",
    "        if isinstance(other, A):\n",
    "            return (self.id == other.id)\n",
    "        return NotImplemented"
   ]
  },
  {
   "cell_type": "code",
   "execution_count": 40,
   "metadata": {},
   "outputs": [
    {
     "data": {
      "text/plain": [
       "{'attr': 'city', 'lower_bound': '100', 'up_bound': '150', 'val': 'Moscow'}"
      ]
     },
     "execution_count": 40,
     "metadata": {},
     "output_type": "execute_result"
    }
   ],
   "source": [
    "def build_constraint_node_list(path):\n",
    "    node_li = []\n",
    "    constraints_li = parse_constraint_file(path)\n",
    "    for i in range(len(constraints_li)):\n",
    "        node_li.append(Node(i,constraints_li[i]))\n",
    "\n",
    "    return node_li\n",
    "node_l = build_constraint_node_list(path)\n",
    "node_l[1].constraint"
   ]
  },
  {
   "cell_type": "code",
   "execution_count": 142,
   "metadata": {},
   "outputs": [
    {
     "data": {
      "text/plain": [
       "2"
      ]
     },
     "execution_count": 142,
     "metadata": {},
     "output_type": "execute_result"
    }
   ],
   "source": [
    "def build_graph(node_li):\n",
    "    '''\n",
    "    if two nodes have overlap on the satisfied records\n",
    "    then add them to each other neighbor list\n",
    "    '''\n",
    "    # must clear before build, otherwise append duplicate when call build_graph\n",
    "    # because neighobrs is a list, mutable object\n",
    "    for node in node_li:\n",
    "        node.neighbors.clear()\n",
    "    for i in range(len(node_li)):\n",
    "        for j in range(i+1, len(node_li)):\n",
    "            node_i, node_j = node_li[i], node_li[j]\n",
    "            overlap_records = set(node_i.records) & set(node_j.records)\n",
    "            if overlap_records:\n",
    "                node_i.neighbors.append(node_j)\n",
    "                node_j.neighbors.append(node_i)\n",
    "\n",
    "    return node_li\n",
    "\n",
    "node_1 = Node(1,{})\n",
    "node_1.records = [1,2,3]\n",
    "node_2 = Node(2,{})\n",
    "node_2.records = [2,4]\n",
    "node_12 = [node_1, node_2]\n",
    "node_new_12 = build_graph(node_12)\n",
    "node_new_12[0].neighbors[0].id"
   ]
  },
  {
   "cell_type": "code",
   "execution_count": 125,
   "metadata": {},
   "outputs": [],
   "source": [
    "selected_col_census = ['workclass', 'education-num', 'marital-status', 'occupation', 'relationship', 'race', 'sex', 'native-country']\n",
    "def get_single_col_statistic(df, selected_col):\n",
    "    mapping = dict()\n",
    "    for col in selected_col:\n",
    "#         print(df[col].describe())\n",
    "        mapping[col] = df[col].value_counts().to_dict()\n",
    "#         print('='*40)\n",
    "    return mapping\n",
    "\n",
    "def get_two_attr_freq(df, two_cols):\n",
    "    for col1, col2 in two_cols:\n",
    "        print(\"=\"*40)\n",
    "        print(df.groupby([col1, col2]).size().sort_values(ascending=False)[:20].sort_index())\n",
    "        \n",
    "def check_diversity_satisfication(df, constraint):\n",
    "    '''\n",
    "    Args: \n",
    "        df, relation R\n",
    "        constraint, constraint in dict() format\n",
    "        with key d['attr'], d['val'], d['lower_bound'], d['up_bound']\n",
    "    Return:\n",
    "        True/False\n",
    "        the index of tuples satisfies given constraint\n",
    "    '''\n",
    "    d = constraint\n",
    "    attr, val, low, up = d['attr'], d['val'], d['lower_bound'], d['up_bound']\n",
    "    filtered_df = df[df[attr] == val]\n",
    "    satisfied = False\n",
    "    if int(low) <= len(filtered_df) <= int(up):\n",
    "        satisfied = True\n",
    "    row_index = filtered_df.index\n",
    "    return satisfied, filtered_df\n",
    "\n",
    "def check_diversity_satisfication_by_node(df, node):\n",
    "    constraint = node.constraint\n",
    "    satisfied, filtered_df = check_diversity_satisfication(df, constraint)\n",
    "    node.records = filtered_df.index\n",
    "    return satisfied, filtered_df, node"
   ]
  },
  {
   "cell_type": "code",
   "execution_count": 77,
   "metadata": {},
   "outputs": [
    {
     "data": {
      "text/html": [
       "<div>\n",
       "<style scoped>\n",
       "    .dataframe tbody tr th:only-of-type {\n",
       "        vertical-align: middle;\n",
       "    }\n",
       "\n",
       "    .dataframe tbody tr th {\n",
       "        vertical-align: top;\n",
       "    }\n",
       "\n",
       "    .dataframe thead th {\n",
       "        text-align: right;\n",
       "    }\n",
       "</style>\n",
       "<table border=\"1\" class=\"dataframe\">\n",
       "  <thead>\n",
       "    <tr style=\"text-align: right;\">\n",
       "      <th></th>\n",
       "      <th>gender</th>\n",
       "      <th>city</th>\n",
       "      <th>country</th>\n",
       "      <th>occupation</th>\n",
       "    </tr>\n",
       "  </thead>\n",
       "  <tbody>\n",
       "    <tr>\n",
       "      <th>0</th>\n",
       "      <td>male</td>\n",
       "      <td>Montreal</td>\n",
       "      <td>Canada</td>\n",
       "      <td>writer</td>\n",
       "    </tr>\n",
       "    <tr>\n",
       "      <th>1</th>\n",
       "      <td>male</td>\n",
       "      <td>Toronto</td>\n",
       "      <td>Canada</td>\n",
       "      <td>writer</td>\n",
       "    </tr>\n",
       "    <tr>\n",
       "      <th>2</th>\n",
       "      <td>female</td>\n",
       "      <td>Montreal</td>\n",
       "      <td>Canada</td>\n",
       "      <td>Musician</td>\n",
       "    </tr>\n",
       "    <tr>\n",
       "      <th>3</th>\n",
       "      <td>male</td>\n",
       "      <td>Edmonton</td>\n",
       "      <td>Canada</td>\n",
       "      <td>Architect</td>\n",
       "    </tr>\n",
       "    <tr>\n",
       "      <th>4</th>\n",
       "      <td>female</td>\n",
       "      <td>Ottawa</td>\n",
       "      <td>Canada</td>\n",
       "      <td>Actor</td>\n",
       "    </tr>\n",
       "    <tr>\n",
       "      <th>5</th>\n",
       "      <td>female</td>\n",
       "      <td>Kingston</td>\n",
       "      <td>Canada</td>\n",
       "      <td>Athlete</td>\n",
       "    </tr>\n",
       "    <tr>\n",
       "      <th>6</th>\n",
       "      <td>female</td>\n",
       "      <td>Calgary</td>\n",
       "      <td>Canada</td>\n",
       "      <td>Actor</td>\n",
       "    </tr>\n",
       "  </tbody>\n",
       "</table>\n",
       "</div>"
      ],
      "text/plain": [
       "   gender      city country occupation\n",
       "0    male  Montreal  Canada     writer\n",
       "1    male   Toronto  Canada     writer\n",
       "2  female  Montreal  Canada   Musician\n",
       "3    male  Edmonton  Canada  Architect\n",
       "4  female    Ottawa  Canada      Actor\n",
       "5  female  Kingston  Canada    Athlete\n",
       "6  female   Calgary  Canada      Actor"
      ]
     },
     "execution_count": 77,
     "metadata": {},
     "output_type": "execute_result"
    }
   ],
   "source": [
    "import pandas as pd\n",
    "df = pd.read_csv(\"./Data/diversity_sample_data.csv\", skipinitialspace=True)\n",
    "df\n",
    "# df.columns"
   ]
  },
  {
   "cell_type": "code",
   "execution_count": 76,
   "metadata": {},
   "outputs": [
    {
     "data": {
      "text/html": [
       "<div>\n",
       "<style scoped>\n",
       "    .dataframe tbody tr th:only-of-type {\n",
       "        vertical-align: middle;\n",
       "    }\n",
       "\n",
       "    .dataframe tbody tr th {\n",
       "        vertical-align: top;\n",
       "    }\n",
       "\n",
       "    .dataframe thead th {\n",
       "        text-align: right;\n",
       "    }\n",
       "</style>\n",
       "<table border=\"1\" class=\"dataframe\">\n",
       "  <thead>\n",
       "    <tr style=\"text-align: right;\">\n",
       "      <th></th>\n",
       "      <th>gender</th>\n",
       "      <th>city</th>\n",
       "      <th>country</th>\n",
       "      <th>occupation</th>\n",
       "    </tr>\n",
       "  </thead>\n",
       "  <tbody>\n",
       "    <tr>\n",
       "      <th>2</th>\n",
       "      <td>female</td>\n",
       "      <td>Montreal</td>\n",
       "      <td>Canada</td>\n",
       "      <td>Musician</td>\n",
       "    </tr>\n",
       "    <tr>\n",
       "      <th>4</th>\n",
       "      <td>female</td>\n",
       "      <td>Ottawa</td>\n",
       "      <td>Canada</td>\n",
       "      <td>Actor</td>\n",
       "    </tr>\n",
       "    <tr>\n",
       "      <th>5</th>\n",
       "      <td>female</td>\n",
       "      <td>Kingston</td>\n",
       "      <td>Canada</td>\n",
       "      <td>Athlete</td>\n",
       "    </tr>\n",
       "    <tr>\n",
       "      <th>6</th>\n",
       "      <td>female</td>\n",
       "      <td>Calgary</td>\n",
       "      <td>Canada</td>\n",
       "      <td>Actor</td>\n",
       "    </tr>\n",
       "  </tbody>\n",
       "</table>\n",
       "</div>"
      ],
      "text/plain": [
       "   gender      city country occupation\n",
       "2  female  Montreal  Canada   Musician\n",
       "4  female    Ottawa  Canada      Actor\n",
       "5  female  Kingston  Canada    Athlete\n",
       "6  female   Calgary  Canada      Actor"
      ]
     },
     "execution_count": 76,
     "metadata": {},
     "output_type": "execute_result"
    }
   ],
   "source": [
    "df[(df['country'] == 'Canada') & (df['gender'] == 'female')]"
   ]
  },
  {
   "cell_type": "code",
   "execution_count": 120,
   "metadata": {},
   "outputs": [
    {
     "name": "stdout",
     "output_type": "stream",
     "text": [
      "{'attr': 'gender', 'val': 'male', 'lower_bound': '1', 'up_bound': '3'}\n"
     ]
    },
    {
     "data": {
      "text/html": [
       "<div>\n",
       "<style scoped>\n",
       "    .dataframe tbody tr th:only-of-type {\n",
       "        vertical-align: middle;\n",
       "    }\n",
       "\n",
       "    .dataframe tbody tr th {\n",
       "        vertical-align: top;\n",
       "    }\n",
       "\n",
       "    .dataframe thead th {\n",
       "        text-align: right;\n",
       "    }\n",
       "</style>\n",
       "<table border=\"1\" class=\"dataframe\">\n",
       "  <thead>\n",
       "    <tr style=\"text-align: right;\">\n",
       "      <th></th>\n",
       "      <th>gender</th>\n",
       "      <th>city</th>\n",
       "      <th>country</th>\n",
       "      <th>occupation</th>\n",
       "    </tr>\n",
       "  </thead>\n",
       "  <tbody>\n",
       "    <tr>\n",
       "      <th>0</th>\n",
       "      <td>male</td>\n",
       "      <td>Montreal</td>\n",
       "      <td>Canada</td>\n",
       "      <td>writer</td>\n",
       "    </tr>\n",
       "    <tr>\n",
       "      <th>1</th>\n",
       "      <td>male</td>\n",
       "      <td>Toronto</td>\n",
       "      <td>Canada</td>\n",
       "      <td>writer</td>\n",
       "    </tr>\n",
       "    <tr>\n",
       "      <th>3</th>\n",
       "      <td>male</td>\n",
       "      <td>Edmonton</td>\n",
       "      <td>Canada</td>\n",
       "      <td>Architect</td>\n",
       "    </tr>\n",
       "  </tbody>\n",
       "</table>\n",
       "</div>"
      ],
      "text/plain": [
       "  gender      city country occupation\n",
       "0   male  Montreal  Canada     writer\n",
       "1   male   Toronto  Canada     writer\n",
       "3   male  Edmonton  Canada  Architect"
      ]
     },
     "execution_count": 120,
     "metadata": {},
     "output_type": "execute_result"
    }
   ],
   "source": [
    "path1= './Data/diversity_sample_constraint.txt'\n",
    "sample_constraints_node_li = build_constraint_node_list(path1)\n",
    "c = sample_constraints_node_li[0].constraint\n",
    "print(c)\n",
    "a, df_b = check_diversity_satisfication(df, c)\n",
    "df_b"
   ]
  },
  {
   "cell_type": "code",
   "execution_count": 134,
   "metadata": {},
   "outputs": [
    {
     "data": {
      "text/plain": [
       "Int64Index([0, 1, 3], dtype='int64')"
      ]
     },
     "execution_count": 134,
     "metadata": {},
     "output_type": "execute_result"
    }
   ],
   "source": [
    "check_diversity_satisfication_by_node(df, sample_constraints_node_li[0])[2].records"
   ]
  },
  {
   "cell_type": "code",
   "execution_count": 137,
   "metadata": {},
   "outputs": [
    {
     "name": "stdout",
     "output_type": "stream",
     "text": [
      "Node id:0 , constraint:{'attr': 'gender', 'val': 'male', 'lower_bound': '1', 'up_bound': '3'} Int64Index([0, 1, 3], dtype='int64')\n",
      "Node id:1 , constraint:{'attr': 'gender', 'val': 'female', 'lower_bound': '2', 'up_bound': '5'} Int64Index([2, 4, 5, 6], dtype='int64')\n",
      "Node id:2 , constraint:{'attr': 'city', 'val': 'Toronto', 'lower_bound': '2', 'up_bound': '5'} Int64Index([1], dtype='int64')\n",
      "Node id:3 , constraint:{'attr': 'occupation', 'val': 'writer', 'lower_bound': '3', 'up_bound': '5'} Int64Index([0, 1], dtype='int64')\n"
     ]
    }
   ],
   "source": [
    "# \n",
    "for node in sample_constraints_node_li:\n",
    "    check_diversity_satisfication_by_node(df, node)\n",
    "    print(node, node.records)"
   ]
  },
  {
   "cell_type": "code",
   "execution_count": 163,
   "metadata": {},
   "outputs": [
    {
     "data": {
      "text/html": [
       "<div>\n",
       "<style scoped>\n",
       "    .dataframe tbody tr th:only-of-type {\n",
       "        vertical-align: middle;\n",
       "    }\n",
       "\n",
       "    .dataframe tbody tr th {\n",
       "        vertical-align: top;\n",
       "    }\n",
       "\n",
       "    .dataframe thead th {\n",
       "        text-align: right;\n",
       "    }\n",
       "</style>\n",
       "<table border=\"1\" class=\"dataframe\">\n",
       "  <thead>\n",
       "    <tr style=\"text-align: right;\">\n",
       "      <th></th>\n",
       "      <th>gender</th>\n",
       "      <th>city</th>\n",
       "      <th>country</th>\n",
       "      <th>occupation</th>\n",
       "    </tr>\n",
       "  </thead>\n",
       "  <tbody>\n",
       "    <tr>\n",
       "      <th>0</th>\n",
       "      <td>male</td>\n",
       "      <td>Montreal</td>\n",
       "      <td>Canada</td>\n",
       "      <td>writer</td>\n",
       "    </tr>\n",
       "    <tr>\n",
       "      <th>1</th>\n",
       "      <td>male</td>\n",
       "      <td>Toronto</td>\n",
       "      <td>Canada</td>\n",
       "      <td>writer</td>\n",
       "    </tr>\n",
       "    <tr>\n",
       "      <th>3</th>\n",
       "      <td>male</td>\n",
       "      <td>Edmonton</td>\n",
       "      <td>Canada</td>\n",
       "      <td>Architect</td>\n",
       "    </tr>\n",
       "  </tbody>\n",
       "</table>\n",
       "</div>"
      ],
      "text/plain": [
       "  gender      city country occupation\n",
       "0   male  Montreal  Canada     writer\n",
       "1   male   Toronto  Canada     writer\n",
       "3   male  Edmonton  Canada  Architect"
      ]
     },
     "execution_count": 163,
     "metadata": {},
     "output_type": "execute_result"
    }
   ],
   "source": [
    "sample_constraints_node_li = build_graph(sample_constraints_node_li)\n",
    "sample_constraints_node_li[0].neighbors\n",
    "index = sample_constraints_node_li[0].records\n",
    "df.iloc[index] # tuples of clustering that satisfy constraint 0\n",
    "# 可以用来得到node.record 中的index 转化为 实际records clustering"
   ]
  },
  {
   "cell_type": "code",
   "execution_count": 178,
   "metadata": {},
   "outputs": [
    {
     "data": {
      "text/html": [
       "<div>\n",
       "<style scoped>\n",
       "    .dataframe tbody tr th:only-of-type {\n",
       "        vertical-align: middle;\n",
       "    }\n",
       "\n",
       "    .dataframe tbody tr th {\n",
       "        vertical-align: top;\n",
       "    }\n",
       "\n",
       "    .dataframe thead th {\n",
       "        text-align: right;\n",
       "    }\n",
       "</style>\n",
       "<table border=\"1\" class=\"dataframe\">\n",
       "  <thead>\n",
       "    <tr style=\"text-align: right;\">\n",
       "      <th></th>\n",
       "      <th>gender</th>\n",
       "      <th>city</th>\n",
       "      <th>country</th>\n",
       "      <th>occupation</th>\n",
       "    </tr>\n",
       "  </thead>\n",
       "  <tbody>\n",
       "    <tr>\n",
       "      <th>0</th>\n",
       "      <td>male</td>\n",
       "      <td>Montreal</td>\n",
       "      <td>Canada</td>\n",
       "      <td>writer</td>\n",
       "    </tr>\n",
       "    <tr>\n",
       "      <th>1</th>\n",
       "      <td>male</td>\n",
       "      <td>Toronto</td>\n",
       "      <td>Canada</td>\n",
       "      <td>writer</td>\n",
       "    </tr>\n",
       "    <tr>\n",
       "      <th>3</th>\n",
       "      <td>male</td>\n",
       "      <td>Edmonton</td>\n",
       "      <td>Canada</td>\n",
       "      <td>Architect</td>\n",
       "    </tr>\n",
       "  </tbody>\n",
       "</table>\n",
       "</div>"
      ],
      "text/plain": [
       "  gender      city country occupation\n",
       "0   male  Montreal  Canada     writer\n",
       "1   male   Toronto  Canada     writer\n",
       "3   male  Edmonton  Canada  Architect"
      ]
     },
     "execution_count": 178,
     "metadata": {},
     "output_type": "execute_result"
    }
   ],
   "source": [
    "df.iloc[list(set(index))]"
   ]
  },
  {
   "cell_type": "code",
   "execution_count": 195,
   "metadata": {},
   "outputs": [
    {
     "name": "stdout",
     "output_type": "stream",
     "text": [
      "Int64Index([0, 1, 3], dtype='int64')\n",
      "[0, 1, 3]\n",
      "Int64Index([1], dtype='int64')\n",
      "[1]\n",
      "Int64Index([0, 1], dtype='int64')\n",
      "[0, 1]\n",
      "Int64Index([0, 1], dtype='int64')\n",
      "[0, 1]\n",
      "(0, [])\n",
      "Int64Index([2, 4, 5, 6], dtype='int64')\n",
      "[2, 4, 5, 6]\n",
      "(0, [])\n"
     ]
    }
   ],
   "source": [
    "def bfs(node, visited, curr_clusters):\n",
    "#     nonlocal curr_clusters\n",
    "    q = [node]\n",
    "    while q:\n",
    "        node = q.pop(0)\n",
    "        visited.add(node)\n",
    "        # update current Node\n",
    "        # 注意, 对 curr_records 修改, 并不会影响curr_clusters\n",
    "        max_low, curr_records = curr_clusters\n",
    "        if not curr_records:\n",
    "            print(node.records)\n",
    "            curr_records = list(node.records)[:]\n",
    "            print(curr_records)\n",
    "        inter = set(curr_records) & set(node.records)\n",
    "        low_bound = int(node.constraint['lower_bound'])\n",
    "        max_low = max(max_low, low_bound)\n",
    "        if len(inter) >= max_low:\n",
    "            curr_records = inter\n",
    "        else:\n",
    "            curr_records = list(set(curr_records) | set(node.records[:low_bound+1]))\n",
    "        \n",
    "        for neigh in node.neighbors:\n",
    "            if neigh not in visited:\n",
    "                q.append(neigh)\n",
    "    return visited, curr_clusters\n",
    "\n",
    "# curr_clusters[0] 是max low_bound, curr_clusters[1] 是 records index\n",
    "curr_clusters = (0, []) \n",
    "visited = set()\n",
    "for node in sample_constraints_node_li:\n",
    "    if node not in visited:\n",
    "        bfs(node, visited, curr_clusters)\n",
    "        print(curr_clusters)"
   ]
  },
  {
   "cell_type": "code",
   "execution_count": 202,
   "metadata": {},
   "outputs": [
    {
     "data": {
      "text/plain": [
       "[0, []]"
      ]
     },
     "execution_count": 202,
     "metadata": {},
     "output_type": "execute_result"
    }
   ],
   "source": [
    "t = [0,[]]\n",
    "a, b = t\n",
    "b = t[1]\n",
    "b = [1,2]\n",
    "t"
   ]
  },
  {
   "cell_type": "code",
   "execution_count": 57,
   "metadata": {},
   "outputs": [],
   "source": [
    "def compute_penalty(t, df, clusters):\n",
    "    pen = 0\n",
    "    for cluster in clusters:\n",
    "        if t in cluster:\n",
    "            if t.suppressed:\n",
    "                t.penalty = len(df)\n",
    "            else:\n",
    "                t.penalty = len(cluster)\n",
    "    return t"
   ]
  }
 ],
 "metadata": {
  "kernelspec": {
   "display_name": "Python 3",
   "language": "python",
   "name": "python3"
  },
  "language_info": {
   "codemirror_mode": {
    "name": "ipython",
    "version": 3
   },
   "file_extension": ".py",
   "mimetype": "text/x-python",
   "name": "python",
   "nbconvert_exporter": "python",
   "pygments_lexer": "ipython3",
   "version": "3.6.4"
  }
 },
 "nbformat": 4,
 "nbformat_minor": 2
}
